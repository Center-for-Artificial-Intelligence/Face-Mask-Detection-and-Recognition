{
  "nbformat": 4,
  "nbformat_minor": 0,
  "metadata": {
    "colab": {
      "name": "Face Mask Detection & Recognition.ipynb",
      "provenance": [],
      "collapsed_sections": [
        "y_Rbx2AxJQIo",
        "1r6_qNf6JhEh",
        "0NUtdFh4UW2T",
        "EGBHVTM6NIKF"
      ],
      "machine_shape": "hm",
      "include_colab_link": true
    },
    "kernelspec": {
      "name": "python3",
      "display_name": "Python 3"
    },
    "accelerator": "GPU"
  },
  "cells": [
    {
      "cell_type": "markdown",
      "metadata": {
        "id": "view-in-github",
        "colab_type": "text"
      },
      "source": [
        "<a href=\"https://colab.research.google.com/github/MohamedMohana/Face-Mask-Detection-Recognition-Using-Colab/blob/main/Face_Mask_Detection_%26_Recognition.ipynb\" target=\"_parent\"><img src=\"https://colab.research.google.com/assets/colab-badge.svg\" alt=\"Open In Colab\"/></a>"
      ]
    },
    {
      "cell_type": "markdown",
      "metadata": {
        "id": "y_Rbx2AxJQIo"
      },
      "source": [
        "#Load Google Drive with Colab\n"
      ]
    },
    {
      "cell_type": "code",
      "metadata": {
        "id": "2GMwuCsQJIIv",
        "colab": {
          "base_uri": "https://localhost:8080/"
        },
        "outputId": "518ac342-e74c-489c-ef57-336ba4dbb66e"
      },
      "source": [
        "# To read data directories and paths from Google Drive\n",
        "from google.colab import drive\n",
        "drive.mount('/content/drive')"
      ],
      "execution_count": null,
      "outputs": [
        {
          "output_type": "stream",
          "text": [
            "Mounted at /content/drive\n"
          ],
          "name": "stdout"
        }
      ]
    },
    {
      "cell_type": "code",
      "metadata": {
        "id": "F8eusOGPMWoH"
      },
      "source": [
        "%cd /content/drive/MyDrive/Colab Notebooks/\"Your Files\"/"
      ],
      "execution_count": null,
      "outputs": []
    },
    {
      "cell_type": "code",
      "metadata": {
        "id": "KmBbdZ-hMe30"
      },
      "source": [
        "!pwd"
      ],
      "execution_count": null,
      "outputs": []
    },
    {
      "cell_type": "code",
      "metadata": {
        "id": "ujgyjTJuNAtv"
      },
      "source": [
        "!ls"
      ],
      "execution_count": null,
      "outputs": []
    },
    {
      "cell_type": "markdown",
      "metadata": {
        "id": "1r6_qNf6JhEh"
      },
      "source": [
        "# Import Important Libraries"
      ]
    },
    {
      "cell_type": "code",
      "metadata": {
        "colab": {
          "base_uri": "https://localhost:8080/"
        },
        "id": "Jw9HF2tcKXun",
        "outputId": "b4b47e8f-1c05-441b-fc15-fe6abcccbb3d"
      },
      "source": [
        "#Install the face_recognition Lib \n",
        "!pip install face_recognition"
      ],
      "execution_count": null,
      "outputs": [
        {
          "output_type": "stream",
          "text": [
            "Requirement already satisfied: face_recognition in /usr/local/lib/python3.7/dist-packages (1.3.0)\n",
            "Requirement already satisfied: numpy in /usr/local/lib/python3.7/dist-packages (from face_recognition) (1.19.5)\n",
            "Requirement already satisfied: Pillow in /usr/local/lib/python3.7/dist-packages (from face_recognition) (7.1.2)\n",
            "Requirement already satisfied: face-recognition-models>=0.3.0 in /usr/local/lib/python3.7/dist-packages (from face_recognition) (0.3.0)\n",
            "Requirement already satisfied: Click>=6.0 in /usr/local/lib/python3.7/dist-packages (from face_recognition) (7.1.2)\n",
            "Requirement already satisfied: dlib>=19.7 in /usr/local/lib/python3.7/dist-packages (from face_recognition) (19.18.0)\n"
          ],
          "name": "stdout"
        }
      ]
    },
    {
      "cell_type": "code",
      "metadata": {
        "id": "8v_OGDf6JKop"
      },
      "source": [
        "#To Preprocess the data (work only with \"\"GPU\"\")\n",
        "from tensorflow.keras.applications.mobilenet_v2 import preprocess_input\n",
        "#Convert images to vector (number) (work only with \"\"GPU\"\")\n",
        "from tensorflow.keras.preprocessing.image import img_to_array\n",
        "#To load the saved model\n",
        "from tensorflow.keras.models import load_model\n",
        "#Get the date \n",
        "from datetime import datetime\n",
        "#Get the off-time\n",
        "from time import sleep\n",
        "#Import the library \n",
        "import face_recognition\n",
        "#Import numpy for array\n",
        "import numpy as np\n",
        "#Import Time\n",
        "import time\n",
        "#Import OpenCV lib for Pictures \n",
        "import cv2\n",
        "#Import files from the OS\n",
        "import os\n",
        "#Import Javacode\n",
        "from IPython.display import display, Javascript\n",
        "#Allow Java code to work in the Browser\n",
        "from google.colab.output import eval_js\n",
        "#To convert bytes that have binary or text data into ASCII characters\n",
        "from base64 import b64decode, b64encode\n",
        "#Image processing functions\n",
        "import imutils\n",
        "#To use cv2.imshow in google colab\n",
        "from google.colab.patches import cv2_imshow\n",
        "#To load the image\n",
        "from PIL import Image\n",
        "#To dealing with various types of I/O\n",
        "import io \n",
        "#Access system-specific parameters and functions\n",
        "import sys"
      ],
      "execution_count": null,
      "outputs": []
    },
    {
      "cell_type": "markdown",
      "metadata": {
        "id": "0NUtdFh4UW2T"
      },
      "source": [
        "#Train the Model\n"
      ]
    },
    {
      "cell_type": "markdown",
      "metadata": {
        "id": "LTLD3fQCUecA"
      },
      "source": [
        "##Import libs"
      ]
    },
    {
      "cell_type": "code",
      "metadata": {
        "id": "haLQ1nP0UiiA"
      },
      "source": [
        "# import the necessary DL packages\n",
        "from tensorflow.keras.preprocessing.image import ImageDataGenerator\n",
        "from tensorflow.keras.applications import MobileNetV2\n",
        "from tensorflow.keras.layers import AveragePooling2D\n",
        "from tensorflow.keras.layers import Dropout\n",
        "from tensorflow.keras.layers import Flatten\n",
        "from tensorflow.keras.layers import Dense\n",
        "from tensorflow.keras.layers import Input\n",
        "from tensorflow.keras.models import Model\n",
        "from tensorflow.keras.optimizers import Adam\n",
        "from tensorflow.keras.applications.mobilenet_v2 import preprocess_input\n",
        "from tensorflow.keras.preprocessing.image import img_to_array\n",
        "from tensorflow.keras.preprocessing.image import load_img\n",
        "from tensorflow.keras.utils import to_categorical\n",
        "from sklearn.preprocessing import LabelBinarizer\n",
        "from sklearn.model_selection import train_test_split\n",
        "from sklearn.metrics import classification_report\n",
        "from imutils import paths\n",
        "import matplotlib.pyplot as plt\n",
        "import numpy as np\n",
        "import os"
      ],
      "execution_count": null,
      "outputs": []
    },
    {
      "cell_type": "markdown",
      "metadata": {
        "id": "QP7x6A70Unhn"
      },
      "source": [
        "## Initialize the initial learning rate, number of epochs to train for,and batch size"
      ]
    },
    {
      "cell_type": "code",
      "metadata": {
        "id": "FqXEOHx2UrVu"
      },
      "source": [
        "INIT_LR = 1e-4\n",
        "EPOCHS = 20\n",
        "BS = 32"
      ],
      "execution_count": null,
      "outputs": []
    },
    {
      "cell_type": "markdown",
      "metadata": {
        "id": "YjK2FQLJUtRf"
      },
      "source": [
        "## Load dataset & Categorize it "
      ]
    },
    {
      "cell_type": "code",
      "metadata": {
        "colab": {
          "base_uri": "https://localhost:8080/"
        },
        "id": "lgT-SRQRUybH",
        "outputId": "1dae6a7d-78dc-4063-def8-0d804e09a37c"
      },
      "source": [
        "DIRECTORY = r\"Mask_Data\"\n",
        "\n",
        "CATEGORIES = [\"with_mask\", \"without_mask\"]\n",
        "# grab the list of images in our dataset directory, then initialize\n",
        "# the list of data (i.e., images) and class images\n",
        "print(\"[INFO] loading images...\")"
      ],
      "execution_count": null,
      "outputs": [
        {
          "output_type": "stream",
          "text": [
            "[INFO] loading images...\n"
          ],
          "name": "stdout"
        }
      ]
    },
    {
      "cell_type": "markdown",
      "metadata": {
        "id": "Fsz-p-UHiBJm"
      },
      "source": [
        "## Create two list:\n",
        "- Data & Labels\n",
        "- Join each image to its right label based on the dataset\n",
        "- Resize all images to 24 x 24\n",
        "- Convert the Images to array --> _faster the process of the traning_\n",
        "- Pre-process the input to suit the model --> in our case here MobileNetV2"
      ]
    },
    {
      "cell_type": "code",
      "metadata": {
        "id": "dKqGo4J7h9Sq"
      },
      "source": [
        "data = []\n",
        "labels = []\n",
        "\n",
        "for category in CATEGORIES:\n",
        "    path = os.path.join(DIRECTORY, category)\n",
        "    for img in os.listdir(path):\n",
        "    \timg_path = os.path.join(path, img)\n",
        "    \timage = load_img(img_path, target_size=(224, 224))\n",
        "    \timage = img_to_array(image)\n",
        "    \timage = preprocess_input(image)\n",
        "    \tdata.append(image)\n",
        "    \tlabels.append(category)"
      ],
      "execution_count": null,
      "outputs": []
    },
    {
      "cell_type": "markdown",
      "metadata": {
        "id": "wLiVFwmNkFXu"
      },
      "source": [
        "## Perform label binarizer encoding on the labels\n",
        "* with mask [0  1] \n",
        "* without mask [1  0]\n",
        "\n",
        "_This will help the output when caculating the probability using the activation function_ \n",
        "\n"
      ]
    },
    {
      "cell_type": "code",
      "metadata": {
        "id": "tLhE0cTTkH9c"
      },
      "source": [
        "lb = LabelBinarizer()\n",
        "labels = lb.fit_transform(labels)\n",
        "labels = to_categorical(labels)"
      ],
      "execution_count": null,
      "outputs": []
    },
    {
      "cell_type": "markdown",
      "metadata": {
        "id": "tvlZmbLdsWNT"
      },
      "source": [
        "## Chage data types to arrays"
      ]
    },
    {
      "cell_type": "code",
      "metadata": {
        "id": "FchcFu6IsKDM"
      },
      "source": [
        "data = np.array(data, dtype=\"float32\")\n",
        "labels = np.array(labels)"
      ],
      "execution_count": null,
      "outputs": []
    },
    {
      "cell_type": "markdown",
      "metadata": {
        "id": "eB7r8PIWsrzO"
      },
      "source": [
        "##Split the data to train/test"
      ]
    },
    {
      "cell_type": "code",
      "metadata": {
        "id": "7gs4VFzxsH0s"
      },
      "source": [
        "(trainX, testX, trainY, testY) = train_test_split(data, labels, test_size=0.20, stratify=labels, random_state=42)"
      ],
      "execution_count": null,
      "outputs": []
    },
    {
      "cell_type": "markdown",
      "metadata": {
        "id": "WJc6xbxj0dR9"
      },
      "source": [
        "## Construct the training image generator for data augmentation\n"
      ]
    },
    {
      "cell_type": "code",
      "metadata": {
        "id": "GzltPccr0eLZ"
      },
      "source": [
        "aug = ImageDataGenerator(\n",
        "\trotation_range=20,\n",
        "\tzoom_range=0.15,\n",
        "\twidth_shift_range=0.2,\n",
        "\theight_shift_range=0.2,\n",
        "\tshear_range=0.15,\n",
        "\thorizontal_flip=True,\n",
        "\tfill_mode=\"nearest\")"
      ],
      "execution_count": null,
      "outputs": []
    },
    {
      "cell_type": "markdown",
      "metadata": {
        "id": "BNRqwWrx24AN"
      },
      "source": [
        "##MobileNetV2\n",
        "\n",
        "- Since we are trasfer learning the model, so we acually do not need the top or last layer which beem trained to detect all the objects. so we will freez it and put our worn layers at the end to solve our problem and detect only the object we want."
      ]
    },
    {
      "cell_type": "code",
      "metadata": {
        "colab": {
          "base_uri": "https://localhost:8080/"
        },
        "id": "lGft19aR2yLp",
        "outputId": "1dfa2893-9fa7-4c04-c0b3-da1d8dfcc96b"
      },
      "source": [
        "# load the MobileNetV2 network, ensuring the head FC layer sets are left off\n",
        "baseModel = MobileNetV2(weights=\"imagenet\", include_top=False,\n",
        "\tinput_tensor=Input(shape=(224, 224, 3)))\n",
        "\n",
        "# construct the head of the model that will be placed on top of the\n",
        "# the base model\n",
        "headModel = baseModel.output\n",
        "headModel = AveragePooling2D(pool_size=(7, 7))(headModel)\n",
        "headModel = Flatten(name=\"flatten\")(headModel)\n",
        "headModel = Dense(128, activation=\"relu\")(headModel)\n",
        "headModel = Dropout(0.5)(headModel)\n",
        "headModel = Dense(2, activation=\"softmax\")(headModel)\n",
        "\n",
        "# place the head FC model on top of the base model (this will become\n",
        "# the actual model we will train)\n",
        "model = Model(inputs=baseModel.input, outputs=headModel)"
      ],
      "execution_count": null,
      "outputs": [
        {
          "output_type": "stream",
          "text": [
            "WARNING:tensorflow:`input_shape` is undefined or non-square, or `rows` is not in [96, 128, 160, 192, 224]. Weights for input shape (224, 224) will be loaded as the default.\n",
            "Downloading data from https://storage.googleapis.com/tensorflow/keras-applications/mobilenet_v2/mobilenet_v2_weights_tf_dim_ordering_tf_kernels_1.0_224_no_top.h5\n",
            "9412608/9406464 [==============================] - 0s 0us/step\n"
          ],
          "name": "stdout"
        }
      ]
    },
    {
      "cell_type": "markdown",
      "metadata": {
        "id": "0i8eWaiN4atD"
      },
      "source": [
        "## Loop over all layers in the base model and freeze them so they will *not* be updated during the first training process\n",
        "\n",
        "- This is because these layes been already trianed before, so why westing time doing again for months ^_^"
      ]
    },
    {
      "cell_type": "code",
      "metadata": {
        "id": "2AzUo33E43Jz"
      },
      "source": [
        "for layer in baseModel.layers:\n",
        "\tlayer.trainable = False"
      ],
      "execution_count": null,
      "outputs": []
    },
    {
      "cell_type": "markdown",
      "metadata": {
        "id": "NNnk_KXe41Rt"
      },
      "source": [
        "## Compile our model\n",
        "- We use the loss finction __binary crossentropy__ and __accuracy__ as a metrics"
      ]
    },
    {
      "cell_type": "code",
      "metadata": {
        "colab": {
          "base_uri": "https://localhost:8080/"
        },
        "id": "OeS_J8hz7cjY",
        "outputId": "104fa258-6d3c-4e33-9dda-a95192a50231"
      },
      "source": [
        "# compile our model\n",
        "print(\"[INFO] compiling model...\")\n",
        "opt = Adam(lr=INIT_LR, decay=INIT_LR / EPOCHS)\n",
        "\n",
        "model.compile(loss=\"binary_crossentropy\", optimizer=opt,\n",
        "\tmetrics=[\"accuracy\"])"
      ],
      "execution_count": null,
      "outputs": [
        {
          "output_type": "stream",
          "text": [
            "[INFO] compiling model...\n"
          ],
          "name": "stdout"
        },
        {
          "output_type": "stream",
          "text": [
            "/usr/local/lib/python3.7/dist-packages/tensorflow/python/keras/optimizer_v2/optimizer_v2.py:375: UserWarning: The `lr` argument is deprecated, use `learning_rate` instead.\n",
            "  \"The `lr` argument is deprecated, use `learning_rate` instead.\")\n"
          ],
          "name": "stderr"
        }
      ]
    },
    {
      "cell_type": "markdown",
      "metadata": {
        "id": "gDZNQRs4_KKd"
      },
      "source": [
        "##Start training \n",
        "\n",
        "- Only the head layers"
      ]
    },
    {
      "cell_type": "code",
      "metadata": {
        "colab": {
          "base_uri": "https://localhost:8080/"
        },
        "id": "r55n5NSU_N48",
        "outputId": "5c2a2195-8c1c-40e0-e942-488707d07664"
      },
      "source": [
        "# train the head of the network\n",
        "print(\"[INFO] training head...\")\n",
        "H = model.fit(\n",
        "\taug.flow(trainX, trainY, batch_size=BS),\n",
        "\tsteps_per_epoch=len(trainX) // BS,\n",
        "\tvalidation_data=(testX, testY),\n",
        "\tvalidation_steps=len(testX) // BS,\n",
        "\tepochs=EPOCHS)"
      ],
      "execution_count": null,
      "outputs": [
        {
          "output_type": "stream",
          "text": [
            "[INFO] training head...\n",
            "Epoch 1/20\n",
            "95/95 [==============================] - 52s 360ms/step - loss: 0.4196 - accuracy: 0.8316 - val_loss: 0.1705 - val_accuracy: 0.9752\n",
            "Epoch 2/20\n",
            "95/95 [==============================] - 33s 352ms/step - loss: 0.1520 - accuracy: 0.9641 - val_loss: 0.0978 - val_accuracy: 0.9765\n",
            "Epoch 3/20\n",
            "95/95 [==============================] - 33s 350ms/step - loss: 0.0961 - accuracy: 0.9792 - val_loss: 0.0750 - val_accuracy: 0.9778\n",
            "Epoch 4/20\n",
            "95/95 [==============================] - 33s 349ms/step - loss: 0.0777 - accuracy: 0.9782 - val_loss: 0.0644 - val_accuracy: 0.9817\n",
            "Epoch 5/20\n",
            "95/95 [==============================] - 33s 348ms/step - loss: 0.0628 - accuracy: 0.9822 - val_loss: 0.0563 - val_accuracy: 0.9831\n",
            "Epoch 6/20\n",
            "95/95 [==============================] - 33s 350ms/step - loss: 0.0563 - accuracy: 0.9855 - val_loss: 0.0489 - val_accuracy: 0.9857\n",
            "Epoch 7/20\n",
            "95/95 [==============================] - 33s 348ms/step - loss: 0.0486 - accuracy: 0.9878 - val_loss: 0.0478 - val_accuracy: 0.9844\n",
            "Epoch 8/20\n",
            "95/95 [==============================] - 33s 347ms/step - loss: 0.0469 - accuracy: 0.9852 - val_loss: 0.0443 - val_accuracy: 0.9883\n",
            "Epoch 9/20\n",
            "95/95 [==============================] - 33s 344ms/step - loss: 0.0424 - accuracy: 0.9878 - val_loss: 0.0472 - val_accuracy: 0.9831\n",
            "Epoch 10/20\n",
            "95/95 [==============================] - 33s 345ms/step - loss: 0.0379 - accuracy: 0.9904 - val_loss: 0.0420 - val_accuracy: 0.9870\n",
            "Epoch 11/20\n",
            "95/95 [==============================] - 33s 345ms/step - loss: 0.0340 - accuracy: 0.9908 - val_loss: 0.0392 - val_accuracy: 0.9909\n",
            "Epoch 12/20\n",
            "95/95 [==============================] - 33s 344ms/step - loss: 0.0358 - accuracy: 0.9895 - val_loss: 0.0374 - val_accuracy: 0.9922\n",
            "Epoch 13/20\n",
            "95/95 [==============================] - 33s 344ms/step - loss: 0.0369 - accuracy: 0.9901 - val_loss: 0.0360 - val_accuracy: 0.9922\n",
            "Epoch 14/20\n",
            "95/95 [==============================] - 33s 343ms/step - loss: 0.0379 - accuracy: 0.9885 - val_loss: 0.0337 - val_accuracy: 0.9948\n",
            "Epoch 15/20\n",
            "95/95 [==============================] - 33s 342ms/step - loss: 0.0337 - accuracy: 0.9898 - val_loss: 0.0459 - val_accuracy: 0.9804\n",
            "Epoch 16/20\n",
            "95/95 [==============================] - 32s 340ms/step - loss: 0.0312 - accuracy: 0.9904 - val_loss: 0.0385 - val_accuracy: 0.9844\n",
            "Epoch 17/20\n",
            "95/95 [==============================] - 32s 341ms/step - loss: 0.0291 - accuracy: 0.9911 - val_loss: 0.0310 - val_accuracy: 0.9948\n",
            "Epoch 18/20\n",
            "95/95 [==============================] - 32s 339ms/step - loss: 0.0344 - accuracy: 0.9898 - val_loss: 0.0329 - val_accuracy: 0.9883\n",
            "Epoch 19/20\n",
            "95/95 [==============================] - 32s 340ms/step - loss: 0.0287 - accuracy: 0.9921 - val_loss: 0.0309 - val_accuracy: 0.9922\n",
            "Epoch 20/20\n",
            "95/95 [==============================] - 33s 343ms/step - loss: 0.0296 - accuracy: 0.9914 - val_loss: 0.0346 - val_accuracy: 0.9883\n"
          ],
          "name": "stdout"
        }
      ]
    },
    {
      "cell_type": "markdown",
      "metadata": {
        "id": "QsO7kHjlD-ZX"
      },
      "source": [
        "##Validation \n",
        "* Make predictions on the testing set"
      ]
    },
    {
      "cell_type": "code",
      "metadata": {
        "colab": {
          "base_uri": "https://localhost:8080/"
        },
        "id": "psQGYk6XD98c",
        "outputId": "e27beecf-05dd-4b4c-a241-ef28d034831b"
      },
      "source": [
        "print(\"[INFO] evaluating network...\")\n",
        "predIdxs = model.predict(testX, batch_size=BS)"
      ],
      "execution_count": null,
      "outputs": [
        {
          "output_type": "stream",
          "text": [
            "[INFO] evaluating network...\n"
          ],
          "name": "stdout"
        }
      ]
    },
    {
      "cell_type": "markdown",
      "metadata": {
        "id": "Q-Mh0cnAEPSx"
      },
      "source": [
        "## Largest predicted probability\n",
        "* So we can know it belongs to which label"
      ]
    },
    {
      "cell_type": "code",
      "metadata": {
        "id": "TATxM21hEPjL"
      },
      "source": [
        "predIdxs = np.argmax(predIdxs, axis=1)"
      ],
      "execution_count": null,
      "outputs": []
    },
    {
      "cell_type": "markdown",
      "metadata": {
        "id": "7HY675dMEhG0"
      },
      "source": [
        "##Classification report for all:\n",
        "- Accuracy \n",
        "- Precision\n",
        "- Recall \n",
        "- F1-score "
      ]
    },
    {
      "cell_type": "code",
      "metadata": {
        "colab": {
          "base_uri": "https://localhost:8080/"
        },
        "id": "6iamtE8wEhhD",
        "outputId": "8bba2c17-6d84-46c9-f27e-b6801957999f"
      },
      "source": [
        "print(classification_report(testY.argmax(axis=1), predIdxs,\n",
        "\ttarget_names=lb.classes_))"
      ],
      "execution_count": null,
      "outputs": [
        {
          "output_type": "stream",
          "text": [
            "              precision    recall  f1-score   support\n",
            "\n",
            "   with_mask       0.98      0.99      0.99       383\n",
            "without_mask       0.99      0.98      0.99       384\n",
            "\n",
            "    accuracy                           0.99       767\n",
            "   macro avg       0.99      0.99      0.99       767\n",
            "weighted avg       0.99      0.99      0.99       767\n",
            "\n"
          ],
          "name": "stdout"
        }
      ]
    },
    {
      "cell_type": "markdown",
      "metadata": {
        "id": "YuhB_j9AGAA-"
      },
      "source": [
        "## Save the model so we can use it again"
      ]
    },
    {
      "cell_type": "code",
      "metadata": {
        "id": "eBxBzBTCH34K"
      },
      "source": [
        "# serialize the model to disk\n",
        "print(\"[INFO] saving mask detector model...\")\n",
        "model.save(\"mask_detector.model\", save_format=\"h5\")"
      ],
      "execution_count": null,
      "outputs": []
    },
    {
      "cell_type": "markdown",
      "metadata": {
        "id": "eoKUP8bWIAUP"
      },
      "source": [
        "##Plot the results"
      ]
    },
    {
      "cell_type": "code",
      "metadata": {
        "id": "J-_FVggoEoC2",
        "colab": {
          "base_uri": "https://localhost:8080/",
          "height": 299
        },
        "outputId": "cf577bfd-f0c5-4bf7-93f7-d84f1ca80ab7"
      },
      "source": [
        "# plot the training loss and accuracy\n",
        "N = EPOCHS\n",
        "plt.style.use(\"ggplot\")\n",
        "plt.figure()\n",
        "plt.plot(np.arange(0, N), H.history[\"loss\"], label=\"train_loss\")\n",
        "#plt.plot(np.arange(0, N), H.history[\"val_loss\"], label=\"val_loss\")\n",
        "plt.plot(np.arange(0, N), H.history[\"accuracy\"], label=\"train_acc\")\n",
        "#plt.plot(np.arange(0, N), H.history[\"val_accuracy\"], label=\"val_acc\")\n",
        "#print(H.history.keys())\n",
        "plt.title(\"Training Loss and Accuracy\")\n",
        "plt.xlabel(\"Epoch #\")\n",
        "plt.ylabel(\"Loss/Accuracy\")\n",
        "plt.legend(loc=\"lower left\")\n",
        "#plt.savefig(\"plot.png\")\n",
        "plt.show()"
      ],
      "execution_count": null,
      "outputs": [
        {
          "output_type": "display_data",
          "data": {
            "image/png": "[encoded data removed]",
            "text/plain": [
              "<Figure size 432x288 with 1 Axes>"
            ]
          },
          "metadata": {
            "tags": []
          }
        }
      ]
    },
    {
      "cell_type": "code",
      "metadata": {
        "id": "5HAi486aIC94"
      },
      "source": [
        ""
      ],
      "execution_count": null,
      "outputs": []
    },
    {
      "cell_type": "markdown",
      "metadata": {
        "id": "EGBHVTM6NIKF"
      },
      "source": [
        "#To able the browser to open the camera in Colab"
      ]
    },
    {
      "cell_type": "code",
      "metadata": {
        "id": "yhHsjTIdNHoe"
      },
      "source": [
        "def VideoCapture():\n",
        "  js = Javascript('''\n",
        "    async function create(){\n",
        "      div = document.createElement('div');\n",
        "      document.body.appendChild(div);\n",
        "\n",
        "      video = document.createElement('video');\n",
        "      video.setAttribute('playsinline', '');\n",
        "\n",
        "      div.appendChild(video);\n",
        "\n",
        "      stream = await navigator.mediaDevices.getUserMedia({video: {facingMode: \"environment\"}});\n",
        "      video.srcObject = stream;\n",
        "\n",
        "      await video.play();\n",
        "\n",
        "      canvas =  document.createElement('canvas');\n",
        "      canvas.width = video.videoWidth;\n",
        "      canvas.height = video.videoHeight;\n",
        "      canvas.getContext('2d').drawImage(video, 0, 0);\n",
        "\n",
        "      div_out = document.createElement('div');\n",
        "      document.body.appendChild(div_out);\n",
        "      img = document.createElement('img');\n",
        "      div_out.appendChild(img);\n",
        "    }\n",
        "\n",
        "\n",
        "    async function capture(){\n",
        "        return await new Promise(function(resolve, reject){\n",
        "            pendingResolve = resolve;\n",
        "            canvas.getContext('2d').drawImage(video, 0, 0);\n",
        "            result = canvas.toDataURL('image/jpeg', 0.8);\n",
        "            pendingResolve(result);\n",
        "        })\n",
        "    }\n",
        "\n",
        "    function showimg(imgb64){\n",
        "        img.src = \"data:image/jpg;base64,\" + imgb64;\n",
        "    }\n",
        "\n",
        "  ''')\n",
        "  display(js)\n",
        "\n",
        "def byte2image(byte):\n",
        "  jpeg = b64decode(byte.split(',')[1])\n",
        "  im = Image.open(io.BytesIO(jpeg))\n",
        "  return np.array(im)\n",
        "\n",
        "def image2byte(image):\n",
        "  image = Image.fromarray(image)\n",
        "  buffer = io.BytesIO()\n",
        "  image.save(buffer, 'jpeg')\n",
        "  buffer.seek(0)\n",
        "  x = b64encode(buffer.read()).decode('utf-8')\n",
        "  return x"
      ],
      "execution_count": null,
      "outputs": []
    },
    {
      "cell_type": "markdown",
      "metadata": {
        "id": "4r0tDCr3LeVV"
      },
      "source": [
        "#Main Function"
      ]
    },
    {
      "cell_type": "code",
      "metadata": {
        "id": "cO-LljQb3Bw3"
      },
      "source": [
        "class face_recog:\n",
        "  def __init__(self):\n",
        "    return None\n",
        "  \n",
        "  def loading(self):\n",
        "    for i in range(3):\n",
        "      os.system(\"cls\")\n",
        "      print(\"[*] Loading.\")\n",
        "      sleep(1)\n",
        "      os.system(\"cls\")\n",
        "      print(\"[*] Loading..\")\n",
        "      sleep(1)\n",
        "      os.system(\"cls\")\n",
        "      print(\"[*] Loading...\")\n",
        "      sleep(1)\n",
        "  \n",
        "    for cl in self.myList:\n",
        "      curImg = cv2.imread(\"{}/{}\".format(self.path,cl))\n",
        "      self.images.append(curImg)\n",
        "      self.classNames.append(os.path.splitext(cl)[0])\n",
        "\n",
        "    print(\"[*] Pepole\")\n",
        "    sleep(1)\n",
        "    print(self.classNames)\n",
        "    sleep(1)\n",
        "    print(\"[*] Encoding...\")\n",
        "    self.encodeListKnown = self.__findEncodings(self.images)\n",
        "    print(\"[*] Encoding complete\")\n",
        "    sleep(1)\n",
        "    print(\"[*] Opening Camera... \")\n",
        "\n",
        "  def __findEncodings(self, images):\n",
        "      encodeList = []\n",
        "      for img in images:\n",
        "        img = cv2.cvtColor(img, cv2.COLOR_BGR2RGB)\n",
        "        try:\n",
        "          encode = face_recognition.face_encodings(img)[0]\n",
        "        except IndexError as e:\n",
        "          print(e)\n",
        "        encodeList.append(encode)\n",
        "      return encodeList\n",
        "\n",
        "\"\"\"\n",
        "Crete \"Records.csv\" file to report everyone and their status\n",
        "\"\"\"\n",
        "  def Records(self, name, label):\n",
        "      with open('Records.csv','r+') as f:\n",
        "        import timeit\n",
        "        start = timeit.default_timer()\n",
        "        myDataList = f.readlines()\n",
        "        nameList = []\n",
        "        label == label\n",
        "        for line in myDataList:\n",
        "          entry = line.split(',')\n",
        "          nameList.append(entry[0])\n",
        "        if name not in nameList:\n",
        "          now = datetime.now()\n",
        "          dtString = now.strftime('%H:%M:%S')\n",
        "          f.writelines('\\n{},{},{}'.format(name,label,dtString))\n",
        "          stop = timeit.default_timer()\n",
        "          print('Time: ', stop - start) \n",
        "\n",
        "\n",
        "class face_mask(face_recog):\n",
        "  def __init__(self):\n",
        "    \"\"\"\n",
        "    ------> Create a dataset of your own pictures and names <------\n",
        "    Ex, Take one picture with mask and named it as \"Mohd_1.jpg\"\n",
        "    and then take onother picture without mask and named it as \"Mohd_2.jpg\"\n",
        "    after you are done, put all the images in a file \"Your_Own_Images\"\n",
        "    \"\"\"\n",
        "    self.path='/Your_Own_Images File Directory' \n",
        "    self.images = []\n",
        "    self.classNames = []\n",
        "    self.myList = os.listdir(self.path)\n",
        "    self.font = cv2.FONT_HERSHEY_SIMPLEX\n",
        "    face_recog.loading(self)\n",
        "    self.prototxtPath = r\"/face_detector/deploy.prototxt\"\n",
        "    self.weightsPath = r\"/face_detector/res10_300x300_ssd_iter_140000.caffemodel\"\n",
        "    return None\n",
        "\n",
        "  def __detect_mask(self, frame, faceNet, maskNet):\n",
        "    (h, w) = frame.shape[:2]\n",
        "    blob = cv2.dnn.blobFromImage(frame, 1.0, (224, 224),\n",
        "      (104.0, 177.0, 123.0))\n",
        "    faceNet.setInput(blob)\n",
        "    detections = faceNet.forward()\n",
        "    faces = []\n",
        "    locs = []\n",
        "    preds = []\n",
        "\n",
        "    for i in range(0, detections.shape[2]):\n",
        "      confidence = detections[0, 0, i, 2]\n",
        "      if confidence > 0.5:\n",
        "        box = detections[0, 0, i, 3:7] * np.array([w, h, w, h])\n",
        "        (startX, startY, endX, endY) = box.astype(\"int\")\n",
        "        (startX, startY) = (max(0, startX), max(0, startY))\n",
        "        (endX, endY) = (min(w - 1, endX), min(h - 1, endY))\n",
        "        face = frame[startY:endY, startX:endX]\n",
        "        face = cv2.cvtColor(face, cv2.COLOR_BGR2RGB)\n",
        "        face = cv2.resize(face, (224, 224))\n",
        "        face = img_to_array(face)\n",
        "        face = preprocess_input(face)\n",
        "        faces.append(face)\n",
        "        locs.append((startX, startY, endX, endY))\n",
        "\n",
        "    if len(faces) > 0:\n",
        "      faces = np.array(faces, dtype=\"float32\")\n",
        "      preds = maskNet.predict(faces, batch_size=32)\n",
        "    return (locs, preds)\n",
        "\n",
        "  def main_proj(self):\n",
        "    faceNet = cv2.dnn.readNet(self.prototxtPath, self.weightsPath)\n",
        "    maskNet = load_model(\"/mask_detector.model\")\n",
        "    print(\"[INFO] starting video stream...\")\n",
        "    VideoCapture()\n",
        "    eval_js('create()')\n",
        "\n",
        "    while True:\n",
        "      byte = eval_js('capture()')\n",
        "      frame = byte2image(byte)\n",
        "      imgS = cv2.resize(frame, (0,0), None, 0.25,0.25)\n",
        "      imgS = cv2.cvtColor(imgS, cv2.COLOR_BGR2RGB)\n",
        "      facesCurFrame = face_recognition.face_locations(imgS)\n",
        "      encodesCurFrame = face_recognition.face_encodings(imgS, facesCurFrame)\n",
        "      (locs, preds) = self.__detect_mask(frame, faceNet, maskNet)\n",
        "\n",
        "      for (box, pred) in zip(locs, preds):\n",
        "        (startX, startY, endX, endY) = box\n",
        "        (mask, withoutMask) = pred\n",
        "        label = \"Mask\" \n",
        "        label = \"{}: {:.2f}%\".format(label, max(mask, withoutMask) * 100)\n",
        "        if mask > withoutMask:\n",
        "          label = \"Mask\"\n",
        "        else:\n",
        "          lable = \"No Mask\"\n",
        "        \n",
        "        if label == \"Mask\": \n",
        "          label = \"With Mask\"\n",
        "          #print(\"yes with mask\")\n",
        "          # font = cv2.FONT_HERSHEY_DUPLEX\n",
        "          # cv2.putText(frame, \"WITH MASK\", (startX, startY - 10),\n",
        "          # font, 0.45, (255, 255, 255), 1)\n",
        "          # cv2.rectangle(frame, (startX, startY), (endX, endY), (255, 255, 255), 1)\n",
        "\n",
        "          for encodeFace, faceLoc in zip(encodesCurFrame, facesCurFrame):\n",
        "            matches = face_recognition.compare_faces(self.encodeListKnown, encodeFace)\n",
        "            faceDis = face_recognition.face_distance(self.encodeListKnown, encodeFace)\n",
        "            #print(faceDis)\n",
        "            matchIndex = np.argmin(faceDis)\n",
        "            if matches[matchIndex]:\n",
        "              name = self.classNames[matchIndex].upper()\n",
        "              #print(name)\n",
        "              #name = name + '\\n'  + lable\n",
        "              y1, x2, y2, x1 = faceLoc\n",
        "              y1, x2, y2, x1 = y1*4,x2*4,y2*4,x1*4\n",
        "              self.Records(name, label)\n",
        "              #self.markAttendance(label)\n",
        "              cv2.rectangle(frame, (startX, startY), (endX, endY), (255, 255, 255), 1)\n",
        "              font = cv2.FONT_HERSHEY_DUPLEX\n",
        "              # cv2.putText(frame, name + \" -->  WITHOUT MASK\", (startX, startY - 10),\n",
        "              # font, 0.45, (0,0,0), 1)\n",
        "              text = name + '\\nWITH MASK'\n",
        "              y0, dy = 50, 25\n",
        " \n",
        "              for i, txt in enumerate(text.split('\\n')):\n",
        "                  y = y0+i*dy\n",
        "                  cv2.putText(frame, txt, (startX, y + 25), font,  0.60 , (255, 255, 255), 1)\n",
        "        else:\n",
        "          label = \"Without Mask\"\n",
        "          for encodeFace, faceLoc in zip(encodesCurFrame,facesCurFrame):\n",
        "            matches = face_recognition.compare_faces(self.encodeListKnown, encodeFace)\n",
        "            faceDis = face_recognition.face_distance(self.encodeListKnown, encodeFace)\n",
        "            #print(faceDis)\n",
        "            matchIndex = np.argmin(faceDis)\n",
        "            if matches[matchIndex]:\n",
        "              name = self.classNames[matchIndex].upper()\n",
        "              #print(name)\n",
        "              #name = name + '\\n'  + lable\n",
        "              y1, x2, y2, x1 = faceLoc\n",
        "              y1, x2, y2, x1 = y1*4, x2*4, y2*4, x1*4\n",
        "              self.Records(name,label)\n",
        "              #self.markAttendance(label)\n",
        "              cv2.rectangle(frame, (startX, startY), (endX, endY), (0,0,0), 1)\n",
        "              font = cv2.FONT_HERSHEY_DUPLEX\n",
        "              # cv2.putText(frame, name + \" -->  WITHOUT MASK\", (startX, startY - 10),\n",
        "              # font, 0.45, (0,0,0), 1)\n",
        "              text = name + '\\nWITHOUT MASK'\n",
        "              y0, dy = 50, 25\n",
        " \n",
        "              for i, txt in enumerate(text.split('\\n')):\n",
        "                  y = y0+i*dy\n",
        "                  cv2.putText(frame, txt, (startX, y + 25), font,  0.60 , (0, 0, 0), 1)\n",
        "\n",
        "              #cv2.putText(frame, name + \"     WITHOU٢T MASK\", (startX, startY - 10),\n",
        "              #cv2.rectangle(frame,(x1,y1),(x2,y2),(0,0,255),2)\n",
        "              #cv2.rectangle(frame,(x1,y2-35),(x2,y2),(0,0,255),cv2.FILLED)\n",
        "              #cv2.putText(frame,name,(x1+6,y2-6),self.font,1,(255,255,255),2)\n",
        "\n",
        "              #print(\"Person on Black List\")\n",
        "\n",
        "            # else:\n",
        "            #   cv2.putText(frame, \"without mask\", (startX, startY - 10),\n",
        "            #   self.font, 0.45, (0,0,255), 2)\n",
        "            #   cv2.rectangle(frame, (startX, startY), (endX, endY), (0,0,255), 2)\n",
        "            #   #print(\"without mask\")\n",
        "\n",
        "      print(label)\n",
        "      eval_js('showimg(\"{}\")'.format(image2byte(frame)))\n",
        "\n",
        "\n",
        "\n",
        "if __name__ == \"__main__\":\n",
        "  obj = face_mask()\n",
        "  face_mask.main_proj.__call__(obj)"
      ],
      "execution_count": null,
      "outputs": []
    }
  ]
}